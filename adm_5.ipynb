{
  "nbformat": 4,
  "nbformat_minor": 0,
  "metadata": {
    "colab": {
      "name": "adm_5.ipynb",
      "provenance": [],
      "collapsed_sections": []
    },
    "kernelspec": {
      "name": "python3",
      "display_name": "Python 3"
    },
    "language_info": {
      "name": "python"
    }
  },
  "cells": [
    {
      "cell_type": "code",
      "metadata": {
        "colab": {
          "base_uri": "https://localhost:8080/"
        },
        "id": "Qq3WzRVyv2Lj",
        "outputId": "d389b4b7-5814-4819-f599-afdc7fbf2027"
      },
      "source": [
        "from google.colab import drive\n",
        "drive.mount('/content/drive')"
      ],
      "execution_count": 1,
      "outputs": [
        {
          "output_type": "stream",
          "name": "stdout",
          "text": [
            "Drive already mounted at /content/drive; to attempt to forcibly remount, call drive.mount(\"/content/drive\", force_remount=True).\n"
          ]
        }
      ]
    },
    {
      "cell_type": "code",
      "metadata": {
        "id": "b38T-a4IwYdV"
      },
      "source": [
        "import os\n",
        "os.chdir(\"/content/drive/MyDrive/ADM/HW5/\")"
      ],
      "execution_count": 2,
      "outputs": []
    },
    {
      "cell_type": "code",
      "metadata": {
        "id": "MorDmeso4WSB"
      },
      "source": [
        "import networkx as nx\n",
        "from tqdm import tqdm"
      ],
      "execution_count": 3,
      "outputs": []
    },
    {
      "cell_type": "markdown",
      "metadata": {
        "id": "B2X5tlQdZWua"
      },
      "source": [
        ""
      ]
    },
    {
      "cell_type": "markdown",
      "metadata": {
        "id": "lWXQ9DEdZWws"
      },
      "source": [
        "##EXPLORE THE DATASET AND FIND MAXIMUM AND MINIMUM TIMESTAMPS"
      ]
    },
    {
      "cell_type": "code",
      "metadata": {
        "colab": {
          "base_uri": "https://localhost:8080/"
        },
        "id": "A_kOGn5gZWwt",
        "outputId": "cc12fa71-b11f-4577-a7c6-a9036c7b41b3"
      },
      "source": [
        "a2q=open(\"a2q.txt\")\n",
        "max=0\n",
        "min=504796\n",
        "\n",
        "for line in tqdm(a2q):\n",
        "    \n",
        "    #Read the line\n",
        "    splitted_line=line.split(\" \")\n",
        "    interaction_time=int(int(splitted_line[2])/3600)\n",
        "    if interaction_time > max:\n",
        "      max=interaction_time\n",
        "    if interaction_time < min:\n",
        "      min=interaction_time\n",
        "\n",
        "print(max)\n",
        "print(min)\n"
      ],
      "execution_count": null,
      "outputs": [
        {
          "output_type": "stream",
          "name": "stderr",
          "text": [
            "17823525it [00:22, 781062.94it/s]"
          ]
        },
        {
          "output_type": "stream",
          "name": "stdout",
          "text": [
            "404796\n",
            "338213\n"
          ]
        },
        {
          "output_type": "stream",
          "name": "stderr",
          "text": [
            "\n"
          ]
        }
      ]
    },
    {
      "cell_type": "code",
      "metadata": {
        "colab": {
          "base_uri": "https://localhost:8080/"
        },
        "id": "SM32X_X_ZWwu",
        "outputId": "98d23df7-cf0e-46f8-89ba-8f58d8464e5b"
      },
      "source": [
        "c2q=open(\"c2q.txt\")\n",
        "max=0\n",
        "min=504796\n",
        "\n",
        "for line in tqdm(c2q):\n",
        "   \n",
        "    #Read the line\n",
        "    splitted_line=line.split(\" \")\n",
        "    interaction_time=int(int(splitted_line[2])/3600)\n",
        "    if interaction_time > max:\n",
        "      max=interaction_time\n",
        "    if interaction_time < min:\n",
        "      min=interaction_time\n",
        "\n",
        "print(max)\n",
        "print(min)"
      ],
      "execution_count": null,
      "outputs": [
        {
          "output_type": "stream",
          "name": "stderr",
          "text": [
            "20268151it [00:25, 781426.87it/s]"
          ]
        },
        {
          "output_type": "stream",
          "name": "stdout",
          "text": [
            "404798\n",
            "338231\n"
          ]
        },
        {
          "output_type": "stream",
          "name": "stderr",
          "text": [
            "\n"
          ]
        }
      ]
    },
    {
      "cell_type": "code",
      "metadata": {
        "colab": {
          "base_uri": "https://localhost:8080/"
        },
        "id": "NQ1XRa2IZWwu",
        "outputId": "6db931c2-41c7-47d9-99f1-cf1afc69b558"
      },
      "source": [
        "c2a=open(\"c2a.txt\")\n",
        "max=0\n",
        "min=504796\n",
        "\n",
        "for line in tqdm(c2a):\n",
        "    \n",
        "    #Read the line\n",
        "    splitted_line=line.split(\" \")\n",
        "    interaction_time=int(int(splitted_line[2])/3600)\n",
        "    if interaction_time > max:\n",
        "      max=interaction_time\n",
        "    if interaction_time < min:\n",
        "      min=interaction_time\n",
        "\n",
        "print(max)\n",
        "print(min)"
      ],
      "execution_count": null,
      "outputs": [
        {
          "output_type": "stream",
          "name": "stderr",
          "text": [
            "25405374it [00:32, 774312.59it/s]"
          ]
        },
        {
          "output_type": "stream",
          "name": "stdout",
          "text": [
            "404798\n",
            "338234\n"
          ]
        },
        {
          "output_type": "stream",
          "name": "stderr",
          "text": [
            "\n"
          ]
        }
      ]
    },
    {
      "cell_type": "markdown",
      "metadata": {
        "id": "aJwOSml35Y7Y"
      },
      "source": [
        "#Read data"
      ]
    },
    {
      "cell_type": "code",
      "metadata": {
        "id": "cFvL_dmjJFgh"
      },
      "source": [
        "# def namestr(obj, namespace):\n",
        "#     return([name for name in namespace if namespace[name] is obj][0])"
      ],
      "execution_count": 4,
      "outputs": []
    },
    {
      "cell_type": "code",
      "metadata": {
        "id": "KRDpgBhAHWxL"
      },
      "source": [
        "def create_graph_layer(G,file_type,file_name,include_self_loops,maximum_time):\n",
        "  \n",
        "  for line in tqdm(file_type):\n",
        "    \n",
        "    #Read the line\n",
        "    splitted_line=line.split(\" \")\n",
        "    #Extract source node,destination node and interaction time\n",
        "    source_node=int(splitted_line[0])\n",
        "    destination_node=int(splitted_line[1])\n",
        "    interaction_time=int(int(splitted_line[2])/3600)\n",
        "\n",
        "    #Disregard self loops if required and take only first maximum_time hours of the dataset\n",
        "    if ((source_node!=destination_node) or include_self_loops) and interaction_time<maximum_time:\n",
        "      \n",
        "      #If G has already an edge, increase its weight and update the interaction time\n",
        "      if G.has_edge(source_node,destination_node) and file_name in G[source_node][destination_node]:\n",
        "        G[source_node][destination_node][file_name][file_name]+=1\n",
        "        G[source_node][destination_node][file_name][\"time\"]=interaction_time\n",
        "      \n",
        "      #If that edge is noy yet existing, initialize its type and value depending on the file we are reading\n",
        "      else:\n",
        "        if file_name==\"a2q\":\n",
        "          G.add_edge(source_node, destination_node,key=file_name, a2q=1,time=interaction_time)\n",
        "        if file_name==\"c2q\":\n",
        "          G.add_edge(source_node, destination_node,key=file_name, c2q=1,time=interaction_time)\n",
        "        if file_name==\"c2a\":\n",
        "          G.add_edge(source_node, destination_node,key=file_name, c2a=1,time=interaction_time)\n",
        "  return(G)"
      ],
      "execution_count": 4,
      "outputs": []
    },
    {
      "cell_type": "code",
      "metadata": {
        "colab": {
          "base_uri": "https://localhost:8080/"
        },
        "id": "5WsWqE9XCQ0A",
        "outputId": "81d77d7f-5674-42a0-d783-e6531a078a84"
      },
      "source": [
        "#Open dataset files\n",
        "a2q=open(\"a2q.txt\")\n",
        "c2a=open(\"c2a.txt\")\n",
        "c2q=open(\"c2q.txt\")\n",
        "\n",
        "#Define timestamp offset in hours\n",
        "offset=338213\n",
        "\n",
        "#Create multidirected graph\n",
        "G = nx.MultiDiGraph()\n",
        "G=create_graph_layer(G,c2a,\"c2a\",include_self_loops=False,maximum_time=offset+1000)\n",
        "G=create_graph_layer(G,a2q,\"a2q\",include_self_loops=False,maximum_time=offset+1000)\n",
        "G=create_graph_layer(G,c2q,\"c2q\",include_self_loops=False,maximum_time=offset+1000)\n",
        "\n",
        "#Close dataset files\n",
        "a2q.close()\n",
        "c2a.close()\n",
        "c2q.close()"
      ],
      "execution_count": 14,
      "outputs": [
        {
          "output_type": "stream",
          "name": "stderr",
          "text": [
            "25405374it [00:40, 622709.62it/s]\n",
            "17823525it [00:29, 609149.05it/s]\n",
            "20268151it [00:32, 622529.13it/s]\n"
          ]
        }
      ]
    }
  ]
}