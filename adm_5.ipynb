{
  "nbformat": 4,
  "nbformat_minor": 0,
  "metadata": {
    "colab": {
      "name": "adm_5.ipynb",
      "provenance": [],
      "collapsed_sections": []
    },
    "kernelspec": {
      "name": "python3",
      "display_name": "Python 3"
    },
    "language_info": {
      "name": "python"
    }
  },
  "cells": [
    {
      "cell_type": "code",
      "metadata": {
        "colab": {
          "base_uri": "https://localhost:8080/"
        },
        "id": "Qq3WzRVyv2Lj",
        "outputId": "9c1f41fb-27bf-413c-920a-e68e1c1ce28b"
      },
      "source": [
        "from google.colab import drive\n",
        "drive.mount('/content/drive')"
      ],
      "execution_count": 1,
      "outputs": [
        {
          "output_type": "stream",
          "name": "stdout",
          "text": [
            "Mounted at /content/drive\n"
          ]
        }
      ]
    },
    {
      "cell_type": "code",
      "metadata": {
        "id": "b38T-a4IwYdV"
      },
      "source": [
        "import os\n",
        "os.chdir(\"/content/drive/MyDrive/ADM/HW5/\")"
      ],
      "execution_count": 2,
      "outputs": []
    },
    {
      "cell_type": "code",
      "metadata": {
        "id": "MorDmeso4WSB"
      },
      "source": [
        "import networkx as nx\n",
        "from tqdm import tqdm"
      ],
      "execution_count": 3,
      "outputs": []
    },
    {
      "cell_type": "markdown",
      "metadata": {
        "id": "aJwOSml35Y7Y"
      },
      "source": [
        "#Read data"
      ]
    },
    {
      "cell_type": "code",
      "metadata": {
        "id": "WXyucOpOPeKR"
      },
      "source": [
        "if True*False:\n",
        "  print(\"casa\")"
      ],
      "execution_count": 110,
      "outputs": []
    },
    {
      "cell_type": "code",
      "metadata": {
        "id": "cFvL_dmjJFgh"
      },
      "source": [
        "def namestr(obj, namespace):\n",
        "    return([name for name in namespace if namespace[name] is obj][0])"
      ],
      "execution_count": 4,
      "outputs": []
    },
    {
      "cell_type": "code",
      "metadata": {
        "id": "KRDpgBhAHWxL"
      },
      "source": [
        "def create_graph_layer(G,file_type,file_name,include_self_loops,maximum_time):\n",
        "  \n",
        "  for line in tqdm(file_type):\n",
        "    \n",
        "    #Read the line\n",
        "    splitted_line=line.split(\" \")\n",
        "    #Extract source node,destination node and interaction time\n",
        "    source_node=int(splitted_line[0])\n",
        "    destination_node=int(splitted_line[1])\n",
        "    interaction_time=int(int(splitted_line[2])/3600)\n",
        "\n",
        "    #Disregard self loops if required and take only first maximum_time hours of the dataset\n",
        "    if ((source_node!=destination_node) or include_self_loops) and interaction_time<maximum_time:\n",
        "      \n",
        "      #If G has already an edge, increase its weight and update the interaction time\n",
        "      if G.has_edge(source_node,destination_node) and file_name in G[source_node][destination_node]:\n",
        "        G[source_node][destination_node][file_name][file_name]+=1\n",
        "        G[source_node][destination_node][file_name][\"time\"]=interaction_time\n",
        "      \n",
        "      #If that edge is noy yet existing, initialize its type and value depending on the file we are reading\n",
        "      else:\n",
        "        if file_name==\"a2q\":\n",
        "          G.add_edge(source_node, destination_node,key=file_name, a2q=1,time=interaction_time)\n",
        "        if file_name==\"c2q\":\n",
        "          G.add_edge(source_node, destination_node,key=file_name, c2q=1,time=interaction_time)\n",
        "        if file_name==\"c2a\":\n",
        "          G.add_edge(source_node, destination_node,key=file_name, c2a=1,time=interaction_time)\n",
        "  return(G)"
      ],
      "execution_count": 111,
      "outputs": []
    },
    {
      "cell_type": "code",
      "metadata": {
        "colab": {
          "base_uri": "https://localhost:8080/"
        },
        "id": "5WsWqE9XCQ0A",
        "outputId": "acafcd0b-5889-46c0-a8a7-5184dbddf667"
      },
      "source": [
        "#Open dataset files\n",
        "a2q=open(\"a2q.txt\")\n",
        "c2a=open(\"c2a.txt\")\n",
        "c2q=open(\"c2q.txt\")\n",
        "\n",
        "#Create multidirected graph\n",
        "G = nx.MultiDiGraph()\n",
        "G=create_graph_layer(G,c2a,\"c2a\",include_self_loops=False,maximum_time=1000)\n",
        "G=create_graph_layer(G,a2q,\"a2q\",include_self_loops=False,maximum_time=1000)\n",
        "G=create_graph_layer(G,c2q,\"c2q\",include_self_loops=False,maximum_time=1000)\n",
        "\n",
        "#Close dataset files\n",
        "a2q.close()\n",
        "c2a.close()\n",
        "c2q.close()"
      ],
      "execution_count": 116,
      "outputs": [
        {
          "output_type": "stream",
          "name": "stderr",
          "text": [
            "3it [00:00, 2684.07it/s]\n",
            "3it [00:00, 9032.96it/s]\n",
            "3it [00:00, 8267.35it/s]\n"
          ]
        }
      ]
    }
  ]
}